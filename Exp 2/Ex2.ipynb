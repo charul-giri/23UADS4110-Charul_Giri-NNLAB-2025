{
 "cells": [
  {
   "cell_type": "markdown",
   "metadata": {},
   "source": [
    "### EXPERIMENT : WAP to implement a multi-layer perceptron (MLP) network with one hidden layer using numpy in Python. Demonstrate that it can learn the XOR Boolean function.  "
   ]
  },
  {
   "cell_type": "markdown",
   "metadata": {},
   "source": [
    "# Understanding the XOR Multi-Layer Perceptron (MLP)\n",
    "\n",
    "Document explains the working of the Multi-Layer Perceptron implemented to learn the XOR Boolean function using a step activation function.\n",
    "\n",
    "The XOR function is not linearly separable, meaning a single-layer perceptron cannot solve it. To overcome this, we implement an MLP with a hidden layer.\n",
    "\n",
    "This MLP:\n",
    "- Has two input neurons.\n",
    "- Uses two hidden neurons to create an intermediate representation.\n",
    "- Has one output neuron for the final XOR output.\n",
    "- Uses a step function as the activation function.\n"
   ]
  },
  {
   "cell_type": "code",
   "execution_count": null,
   "metadata": {},
   "outputs": [
    {
     "name": "stdout",
     "output_type": "stream",
     "text": [
      "Input: [0 0] -> XOR Output: 0\n",
      "Input: [0 1] -> XOR Output: 1\n",
      "Input: [1 0] -> XOR Output: 1\n",
      "Input: [1 1] -> XOR Output: 0\n"
     ]
    }
   ],
   "source": [
    "import numpy as np\n",
    "\n",
    "def perceptron(inputs, weights, bias):\n",
    "    # Step activation function perceptron\n",
    "    return np.where(np.dot(inputs, weights) + bias > 0, 1, 0)\n",
    "\n",
    "def xor_mlp(x):\n",
    "    # Hidden layer perceptron\n",
    "    p1_w = np.array([1, -1])  \n",
    "    p2_w = np.array([-1, 1])  \n",
    "    p1_b = 0\n",
    "    p2_b = 0\n",
    "    \n",
    "    # Compute hidden layer outputs\n",
    "    h1 = perceptron(x, p1_w, p1_b)\n",
    "    h2 = perceptron(x, p2_w, p2_b)\n",
    "    \n",
    "    # Final XOR perceptron\n",
    "    xor_w = np.array([1, 1])  # Summing h1 and h2\n",
    "    xor_b = -0.5  # Adjusted bias for proper XOR behavior\n",
    "    \n",
    "    return perceptron(np.stack((h1, h2), axis=1), xor_w, xor_b)\n",
    "\n",
    "# XOR\n",
    "X = np.array([[0, 0], [0, 1], [1, 0], [1, 1]])\n",
    "Y = xor_mlp(X)\n",
    "\n",
    "# results\n",
    "for i in range(len(X)):\n",
    "    print(f'Input: {X[i]} -> XOR Output: {Y[i]}')\n"
   ]
  }
 ],
 "metadata": {
  "kernelspec": {
   "display_name": "base",
   "language": "python",
   "name": "python3"
  },
  "language_info": {
   "codemirror_mode": {
    "name": "ipython",
    "version": 3
   },
   "file_extension": ".py",
   "mimetype": "text/x-python",
   "name": "python",
   "nbconvert_exporter": "python",
   "pygments_lexer": "ipython3",
   "version": "3.12.7"
  }
 },
 "nbformat": 4,
 "nbformat_minor": 2
}
